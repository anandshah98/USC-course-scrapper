{
 "cells": [
  {
   "cell_type": "markdown",
   "metadata": {
    "pycharm": {
     "name": "#%% md\n"
    }
   },
   "source": [
    "# Import libraries"
   ]
  },
  {
   "cell_type": "code",
   "execution_count": null,
   "metadata": {
    "pycharm": {
     "name": "#%%\n"
    }
   },
   "outputs": [],
   "source": [
    "from bs4 import BeautifulSoup as bs\n",
    "from selenium import webdriver\n",
    "from selenium.webdriver import ActionChains\n",
    "import re\n",
    "import time\n",
    "from selenium.webdriver.common.by import By\n",
    "import pandas as pd"
   ]
  },
  {
   "cell_type": "code",
   "execution_count": null,
   "metadata": {
    "pycharm": {
     "name": "#%%\n"
    }
   },
   "outputs": [],
   "source": [
    "!pip install --upgrade google-api-python-client\n",
    "!pip install oauth2client"
   ]
  },
  {
   "cell_type": "code",
   "execution_count": null,
   "metadata": {
    "pycharm": {
     "name": "#%%\n"
    }
   },
   "outputs": [],
   "source": [
    "import httplib2\n",
    "import os\n",
    "from oauth2client import client, tools\n",
    "from oauth2client import file as oa2file\n",
    "import base64\n",
    "from email.mime.multipart import MIMEMultipart\n",
    "from email.mime.text import MIMEText\n",
    "from apiclient import errors, discovery\n",
    "from os.path import basename\n",
    "from email.mime.application import MIMEApplication"
   ]
  },
  {
   "cell_type": "code",
   "execution_count": null,
   "metadata": {},
   "outputs": [],
   "source": [
    "def pages(courses, base_url=\"https://classes.usc.edu/term-20221/course/\"):\n",
    "    \"\"\"\n",
    "    Page generator that returns webpage urls\n",
    "    :param base_url: str\n",
    "    :return: str\n",
    "    \"\"\"\n",
    "\n",
    "    for course in courses:\n",
    "        new_url = f\"{base_url}/{course.lower().replace(' ', '-')}\"\n",
    "        yield new_url, course, courses[course]                                           # yields new url"
   ]
  },
  {
   "cell_type": "markdown",
   "metadata": {
    "pycharm": {
     "name": "#%% md\n"
    }
   },
   "source": [
    "# init incognito browser\n",
    "\n",
    "> download latest compatible chromedriver version before running this cell"
   ]
  },
  {
   "cell_type": "code",
   "execution_count": null,
   "metadata": {},
   "outputs": [],
   "source": [
    "def create_browser_instance():\n",
    "    chrome_driver_path = r\"chromedriver_win32/chromedriver.exe\"     # chrome_driver path from present directory\n",
    "    options = webdriver.ChromeOptions()\n",
    "    options.add_argument(\"--headless\")                              # get a headless chrome instance\n",
    "    options.add_argument(\"--incognito\")                             # to start a fresh session without prior cookies\n",
    "    browser = webdriver.Chrome(executable_path=chrome_driver_path, options=options)\n",
    "    return browser\n",
    "\n",
    "browser = create_browser_instance()"
   ]
  },
  {
   "cell_type": "markdown",
   "metadata": {
    "pycharm": {
     "name": "#%% md\n"
    }
   },
   "source": [
    "# Input requirement:\n",
    "\n",
    "Find the courses you want to apply to and save them to a courses.txt in the following format.\n",
    "Department Course_number: Name of the course (x.x units)\n",
    "> [(x.x units) part can be excluded]\n",
    "\n",
    "For e.g:\n",
    "\n",
    "> CSCI 561: Foundations of Artificial Intelligence (4.0 units) <br>\n",
    "> CSCI 566: Deep Learning and Its Applications (4.0 units)\n",
    "\n",
    "I have attached an example courses.txt for reference\n",
    "\n",
    "# Setup client_secret.json file through [Python OAuth2](https://stackoverflow.com/questions/37201250/sending-email-via-gmail-python)\n",
    "\n",
    "## Step 1:\n",
    "### Note: in step d, select Web application in 'Application type' since Jupyter-notebook is a web application\n",
    "<img src=\"https://i.stack.imgur.com/ICIXt.png\" width=\"600\" height=\"300\" />"
   ]
  },
  {
   "cell_type": "markdown",
   "metadata": {
    "pycharm": {
     "name": "#%% md\n"
    }
   },
   "source": [
    "# Create course dictionary"
   ]
  },
  {
   "cell_type": "code",
   "execution_count": null,
   "metadata": {},
   "outputs": [],
   "source": [
    "courses = {}        # contains course names\n",
    "store_dets = []     # contains other course related details\n",
    "if os.path.exists('courses.txt'):\n",
    "    with open('courses.txt', \"r\") as f:\n",
    "        for i in f.readlines():\n",
    "            match = re.match(r'(\\w+\\s\\d+\\w*): (.+) (\\(.+\\))', i)\n",
    "            if match:\n",
    "                courses[match.group(1)] = match.group(2)\n",
    "else:\n",
    "    print(f\"courses.txt doesn't exist, please create and fill it with required info\")"
   ]
  },
  {
   "cell_type": "markdown",
   "metadata": {
    "pycharm": {
     "name": "#%% md\n"
    }
   },
   "source": [
    "# Get all relevant info"
   ]
  },
  {
   "cell_type": "code",
   "execution_count": null,
   "metadata": {},
   "outputs": [],
   "source": [
    "year = input(\"Year->\") # default: 2022\n",
    "term = input(\"1: Spring; 2: Summer; 3: Fall;\\n----->\") # default: 1\n",
    "for page, course, name in pages(courses, base_url=f\"https://classes.usc.edu/term-{year}{term}/course\"):\n",
    "    print(page)\n",
    "    browser.get(page)                                                      # load page into browser\n",
    "    source = browser.page_source\n",
    "    soup = bs(source, \"html.parser\").find('tbody')\n",
    "    for section in soup.findAll(\"tr\"):\n",
    "        if section.attrs['class'] == [\"headers\"]:\n",
    "            continue\n",
    "        childrens = list(section.children)\n",
    "        lecture_section = childrens[2]\n",
    "        if lecture_section.text.lower() == \"lecture\":\n",
    "            instructor = childrens[6]\n",
    "            found = instructor.find('a')\n",
    "            browser.get(\"https://uscdirectory.usc.edu/web/directory/faculty-staff/\")\n",
    "            element_to_search = browser.find_element(By.NAME, \"q\")\n",
    "            action = ActionChains(browser)\n",
    "            action.click(element_to_search)\n",
    "            action.send_keys(instructor.text)\n",
    "            action.perform()\n",
    "            click_button = browser.find_element(By.TAG_NAME, \"button\")\n",
    "            action.click(click_button)\n",
    "            action.perform()\n",
    "            time.sleep(5)\n",
    "            source = browser.page_source\n",
    "            all_emails = re.findall(r'[-\\w\\.]+@[\\w+.]+\\w+', browser.page_source)\n",
    "            store_dets.append((course, name, instructor.text, all_emails[-1] if all_emails != [] else None,found.attrs['href'] if found else None))\n",
    "browser.close()"
   ]
  },
  {
   "cell_type": "markdown",
   "metadata": {
    "pycharm": {
     "name": "#%% md\n"
    }
   },
   "source": [
    "# Load into a PD DataFrame"
   ]
  },
  {
   "cell_type": "code",
   "execution_count": null,
   "metadata": {},
   "outputs": [],
   "source": [
    "info = pd.DataFrame(set(store_dets), columns=['syllable', 'course', 'professor', 'email', 'links']).sort_values('syllable')\n",
    "info.to_csv(\"details.csv\", index=False)"
   ]
  },
  {
   "cell_type": "markdown",
   "metadata": {
    "pycharm": {
     "name": "#%% md\n"
    }
   },
   "source": [
    "### NOTE\n",
    "> Please check if the emails correspond to professor names from the 'professor' section"
   ]
  },
  {
   "cell_type": "code",
   "execution_count": null,
   "metadata": {},
   "outputs": [],
   "source": [
    "info"
   ]
  },
  {
   "cell_type": "markdown",
   "metadata": {
    "pycharm": {
     "name": "#%% md\n"
    }
   },
   "source": [
    "# [Google copy-pasta for sending email through python](https://developers.google.com/gmail/api/guides/sending)"
   ]
  },
  {
   "cell_type": "code",
   "execution_count": null,
   "metadata": {},
   "outputs": [],
   "source": [
    "SCOPES = 'https://www.googleapis.com/auth/gmail.send'\n",
    "CLIENT_SECRET_FILE = \"client_secret.json\"\n",
    "APPLICATION_NAME = 'Gmail API Python Send Email'\n",
    "\n",
    "def get_credentials():\n",
    "    home_dir = os.path.expanduser('~')\n",
    "    credential_dir = os.path.join(home_dir, '.credentials')\n",
    "    if not os.path.exists(credential_dir):\n",
    "        os.makedirs(credential_dir)\n",
    "    credential_path = os.path.join(credential_dir, 'gmail-python-email-send.json')\n",
    "    store = oa2file.Storage(credential_path)\n",
    "    credentials = store.get()\n",
    "    if not credentials or credentials.invalid:\n",
    "        flow = client.flow_from_clientsecrets(CLIENT_SECRET_FILE, SCOPES)\n",
    "        flow.user_agent = APPLICATION_NAME\n",
    "        credentials = tools.run_flow(flow, store)\n",
    "        print('Storing credentials to ' + credential_path)\n",
    "    return credentials\n",
    "\n",
    "def SendMessage(sender, to, subject, msgHtml, filename):\n",
    "    # filename -> name of file to be attached\n",
    "    credentials = get_credentials()\n",
    "    http = credentials.authorize(httplib2.Http())\n",
    "    service = discovery.build('gmail', 'v1', http=http)\n",
    "    message1 = CreateMessage(sender, to, subject, msgHtml, filename=filename)\n",
    "    SendMessageInternal(service, \"me\", message1)\n",
    "\n",
    "def SendMessageInternal(service, user_id, message):\n",
    "    try:\n",
    "        message = (service.users().messages().send(userId=user_id, body=message).execute())\n",
    "        print('Message sent - id: %s' % message['id'])\n",
    "        return message\n",
    "    except errors.HttpError as error:\n",
    "        print('An error occurred: %s' % error)\n",
    "\n",
    "def CreateMessage(sender, to, subject, msgHtml, filename):\n",
    "    msg = MIMEMultipart()\n",
    "    msg['Subject'] = subject\n",
    "    msg['From'] = sender\n",
    "    msg['To'] = to\n",
    "            \n",
    "    with open(filename, \"rb\") as f:\n",
    "        part = MIMEApplication(f.read(),Name=basename(filename))\n",
    "        # After the file is closed\n",
    "    part['Content-Disposition'] = 'attachment; filename=\"%s\"' % basename(filename)\n",
    "    msg.attach(part)\n",
    "    \n",
    "    msg.attach(MIMEText(msgHtml, 'html'))\n",
    "    raw = base64.urlsafe_b64encode(msg.as_bytes())\n",
    "    raw = raw.decode()\n",
    "    body = {'raw': raw}\n",
    "    return body"
   ]
  },
  {
   "cell_type": "markdown",
   "metadata": {
    "pycharm": {
     "name": "#%% md\n"
    }
   },
   "source": [
    "# This is what we are here for\n",
    "\n",
    "- Please have your resume/C.V. in the same path as this notebook <br>\n",
    "- Replace \"your_email\" with the your actual email on line 9 <br>\n",
    "- Replace \"your_resume.pdf\" with the path/name of your file\n",
    "- Modify the msgHtml for custom email body\n",
    "- Modify the subject variable "
   ]
  },
  {
   "cell_type": "code",
   "execution_count": null,
   "metadata": {},
   "outputs": [],
   "source": [
    "def print_automate():\n",
    "    if os.path.exists(\"details.csv\"):\n",
    "        details = pd.read_csv(\"details.csv\")\n",
    "        msgHtml = \"\"\"{0} example {1}\"\"\" # Email body, 0 - professor's name, 1 - course name\n",
    "        for i in range(5):\n",
    "            current = details.iloc[i]\n",
    "            course = f\"{current['syllable']}: {current['course']}\"\n",
    "            to = current['email'] # email address of the professor\n",
    "            sender = \"your_email\" # your email\n",
    "            prof_name = current['professor']\n",
    "            subject = \"Sample\" # email subject\n",
    "            SendMessage(sender, to, subject, msgHtml.format(prof_name,course), \"your_resume.pdf\") # name corresponds to filename\n",
    "            print(current['email'])\n",
    "    else:\n",
    "        print(f\"details.csv file doesn't exist\")"
   ]
  },
  {
   "cell_type": "markdown",
   "metadata": {
    "pycharm": {
     "name": "#%% md\n"
    }
   },
   "source": [
    "# RUN!"
   ]
  },
  {
   "cell_type": "code",
   "execution_count": null,
   "metadata": {},
   "outputs": [],
   "source": [
    "if __name__ == '__main__':\n",
    "    print_automate()"
   ]
  }
 ],
 "metadata": {
  "kernelspec": {
   "display_name": "Python 3.10",
   "language": "python",
   "name": "python3.10"
  },
  "language_info": {
   "codemirror_mode": {
    "name": "ipython",
    "version": 3
   },
   "file_extension": ".py",
   "mimetype": "text/x-python",
   "name": "python",
   "nbconvert_exporter": "python",
   "pygments_lexer": "ipython3",
   "version": "3.10.1"
  }
 },
 "nbformat": 4,
 "nbformat_minor": 4
}